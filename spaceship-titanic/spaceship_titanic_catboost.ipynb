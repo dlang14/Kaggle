{
 "cells": [
  {
   "cell_type": "code",
   "execution_count": 1,
   "id": "23a0ddaf",
   "metadata": {},
   "outputs": [],
   "source": [
    "import pandas as pd\n",
    "import catboost as cb"
   ]
  },
  {
   "cell_type": "code",
   "execution_count": 2,
   "id": "279c6a68",
   "metadata": {},
   "outputs": [],
   "source": [
    "train = pd.read_csv('kaggle/input/spaceship-titanic/train.csv')\n",
    "test = pd.read_csv('kaggle/input/spaceship-titanic/test.csv')"
   ]
  },
  {
   "cell_type": "code",
   "execution_count": 3,
   "id": "3f40de32",
   "metadata": {},
   "outputs": [
    {
     "name": "stderr",
     "output_type": "stream",
     "text": [
      "/var/folders/mn/hs3437m91nl6t0jglxgfhwkw0000gn/T/ipykernel_24607/2795264141.py:10: FutureWarning: Downcasting object dtype arrays on .fillna, .ffill, .bfill is deprecated and will change in a future version. Call result.infer_objects(copy=False) instead. To opt-in to the future behavior, set `pd.set_option('future.no_silent_downcasting', True)`\n",
      "  train['VIP'] = train['VIP'].fillna(False).astype(bool)\n",
      "/var/folders/mn/hs3437m91nl6t0jglxgfhwkw0000gn/T/ipykernel_24607/2795264141.py:11: FutureWarning: Downcasting object dtype arrays on .fillna, .ffill, .bfill is deprecated and will change in a future version. Call result.infer_objects(copy=False) instead. To opt-in to the future behavior, set `pd.set_option('future.no_silent_downcasting', True)`\n",
      "  train['CryoSleep'] = train['CryoSleep'].fillna(False).astype(bool)\n",
      "/var/folders/mn/hs3437m91nl6t0jglxgfhwkw0000gn/T/ipykernel_24607/2795264141.py:17: FutureWarning: Downcasting object dtype arrays on .fillna, .ffill, .bfill is deprecated and will change in a future version. Call result.infer_objects(copy=False) instead. To opt-in to the future behavior, set `pd.set_option('future.no_silent_downcasting', True)`\n",
      "  test['VIP'] = test['VIP'].fillna(False).astype(bool)\n",
      "/var/folders/mn/hs3437m91nl6t0jglxgfhwkw0000gn/T/ipykernel_24607/2795264141.py:18: FutureWarning: Downcasting object dtype arrays on .fillna, .ffill, .bfill is deprecated and will change in a future version. Call result.infer_objects(copy=False) instead. To opt-in to the future behavior, set `pd.set_option('future.no_silent_downcasting', True)`\n",
      "  test['CryoSleep'] = test['CryoSleep'].fillna(False).astype(bool)\n"
     ]
    },
    {
     "data": {
      "text/plain": [
       "\"# Combine train and test for consistent encoding, then split back\\nfrom sklearn.preprocessing import LabelEncoder\\n\\n# Add a marker to split later\\ntest['Transported'] = None  # Add dummy column to align columns\\ncombined = pd.concat([train, test], sort=False, ignore_index=True)\\n#combined['CryoSleep_VIP'] = combined['CryoSleep'].astype(str) + '_' + combined['VIP'].astype(str)\\n\\n# Encode categorical columns\\nle_home = LabelEncoder()\\nle_dest = LabelEncoder()\\nle_cabin_deck = LabelEncoder()\\nle_cabin_side = LabelEncoder()\\n#le_cryo_vip = LabelEncoder()\\n\\ncombined['HomePlanet_enc'] = le_home.fit_transform(combined['HomePlanet'])\\ncombined['Destination_enc'] = le_dest.fit_transform(combined['Destination'])\\ncombined['Cabin_deck_enc'] = le_cabin_deck.fit_transform(combined['Cabin_deck'])\\ncombined['Cabin_side_enc'] = le_cabin_side.fit_transform(combined['Cabin_side'])\\n#combined['CryoSleep_VIP_enc'] = le_cryo_vip.fit_transform(combined['CryoSleep_VIP'])\\n\\n# Split back into train and test\\ntrain = combined[combined['Transported'].notnull()].copy()\\ntest = combined[combined['Transported'].isnull()].copy()\\n\\ntest.drop(columns=['Transported'], inplace=True)  # Remove dummy column from test\""
      ]
     },
     "execution_count": 3,
     "metadata": {},
     "output_type": "execute_result"
    }
   ],
   "source": [
    "# Split Cabin into deck, num, and side\n",
    "for df in [train, test]:\n",
    "    df['Cabin'] = df['Cabin'].fillna('Unknown/-1/U')\n",
    "    df['Cabin_deck'] = df['Cabin'].apply(lambda x: x.split('/')[0])\n",
    "    df['Cabin_num'] = df['Cabin'].apply(lambda x: x.split('/')[1])\n",
    "    df['Cabin_side'] = df['Cabin'].apply(lambda x: x.split('/')[2])\n",
    "\n",
    "# Fill missing values and convert boolean columns explicitly\n",
    "train['Age'] = train['Age'].fillna(train['Age'].median())\n",
    "train['VIP'] = train['VIP'].fillna(False).astype(bool)\n",
    "train['CryoSleep'] = train['CryoSleep'].fillna(False).astype(bool)\n",
    "train['Cabin'] = train['Cabin'].fillna('Unknown')\n",
    "train['Destination'] = train['Destination'].fillna('Unknown')\n",
    "train['HomePlanet'] = train['HomePlanet'].fillna('Unknown')\n",
    "\n",
    "test['Age'] = test['Age'].fillna(train['Age'].median())\n",
    "test['VIP'] = test['VIP'].fillna(False).astype(bool)\n",
    "test['CryoSleep'] = test['CryoSleep'].fillna(False).astype(bool)\n",
    "test['Cabin'] = test['Cabin'].fillna('Unknown')\n",
    "test['Destination'] = test['Destination'].fillna('Unknown')\n",
    "test['HomePlanet'] = test['HomePlanet'].fillna('Unknown')\n",
    "\n",
    "########################################################\n",
    "# No need to encode categorical columns for catboost\n",
    "\n",
    "\"\"\"# Combine train and test for consistent encoding, then split back\n",
    "from sklearn.preprocessing import LabelEncoder\n",
    "\n",
    "# Add a marker to split later\n",
    "test['Transported'] = None  # Add dummy column to align columns\n",
    "combined = pd.concat([train, test], sort=False, ignore_index=True)\n",
    "#combined['CryoSleep_VIP'] = combined['CryoSleep'].astype(str) + '_' + combined['VIP'].astype(str)\n",
    "\n",
    "# Encode categorical columns\n",
    "le_home = LabelEncoder()\n",
    "le_dest = LabelEncoder()\n",
    "le_cabin_deck = LabelEncoder()\n",
    "le_cabin_side = LabelEncoder()\n",
    "#le_cryo_vip = LabelEncoder()\n",
    "\n",
    "combined['HomePlanet_enc'] = le_home.fit_transform(combined['HomePlanet'])\n",
    "combined['Destination_enc'] = le_dest.fit_transform(combined['Destination'])\n",
    "combined['Cabin_deck_enc'] = le_cabin_deck.fit_transform(combined['Cabin_deck'])\n",
    "combined['Cabin_side_enc'] = le_cabin_side.fit_transform(combined['Cabin_side'])\n",
    "#combined['CryoSleep_VIP_enc'] = le_cryo_vip.fit_transform(combined['CryoSleep_VIP'])\n",
    "\n",
    "# Split back into train and test\n",
    "train = combined[combined['Transported'].notnull()].copy()\n",
    "test = combined[combined['Transported'].isnull()].copy()\n",
    "\n",
    "test.drop(columns=['Transported'], inplace=True)  # Remove dummy column from test\"\"\""
   ]
  },
  {
   "cell_type": "code",
   "execution_count": 4,
   "id": "40337970",
   "metadata": {},
   "outputs": [],
   "source": [
    "spend_cols = ['RoomService','Spa', 'VRDeck']\n",
    "train['TotalSpend'] = train[spend_cols].fillna(0).sum(axis=1)\n",
    "train['NoSpend'] = (train[spend_cols].fillna(0).sum(axis=1) == 0).astype(bool)\n",
    "test['TotalSpend'] = test[spend_cols].fillna(0).sum(axis=1)\n",
    "test['NoSpend'] = (test[spend_cols].fillna(0).sum(axis=1) == 0).astype(bool)"
   ]
  },
  {
   "cell_type": "code",
   "execution_count": 5,
   "id": "4d7767d8",
   "metadata": {},
   "outputs": [],
   "source": [
    "# List of categorical feature names (as they appear in your DataFrame)\n",
    "cat_features = ['HomePlanet', 'Destination', 'Cabin_deck', 'Cabin_side', 'NoSpend', 'CryoSleep', 'VIP']\n",
    "\n",
    "features = ['HomePlanet', 'Destination', 'Cabin_deck', 'Cabin_side', 'NoSpend', 'CryoSleep', 'VIP', 'TotalSpend', 'Age']\n",
    "\n",
    "X = train[features]\n",
    "y = train['Transported'].astype(int)\n",
    "X_test = test[features]"
   ]
  },
  {
   "cell_type": "code",
   "execution_count": 6,
   "id": "ac7f2197",
   "metadata": {},
   "outputs": [
    {
     "data": {
      "text/plain": [
       "\"param_dist = {\\n    'iterations': [300, 500, 700, 1000],\\n    'learning_rate': [0.01, 0.03, 0.05, 0.1],\\n    'depth': [4, 5, 6, 7, 8],\\n    'l2_leaf_reg': [1, 3, 5, 7, 9],\\n    'bagging_temperature': [0, 0.5, 1, 2]\\n}\\n\\nmodel = CatBoostClassifier(\\n    cat_features=cat_features,\\n    loss_function='Logloss',\\n    eval_metric='Accuracy',\\n    verbose=0,\\n    random_seed=42\\n)\\n\\nsearch = RandomizedSearchCV(\\n    model,\\n    param_distributions=param_dist,\\n    n_iter=20,\\n    scoring='accuracy',\\n    cv=3,\\n    verbose=2,\\n    n_jobs=-1\\n)\\n\\nsearch.fit(X, y)\\nprint('Best params:', search.best_params_)\\nprint('Best score:', search.best_score_)\""
      ]
     },
     "execution_count": 6,
     "metadata": {},
     "output_type": "execute_result"
    }
   ],
   "source": [
    "from sklearn.model_selection import RandomizedSearchCV\n",
    "from catboost import CatBoostClassifier\n",
    "\n",
    "# {'learning_rate': 0.03, 'l2_leaf_reg': 5, 'iterations': 700, 'depth': 5, 'bagging_temperature': 2}\n",
    "best_params = {\n",
    "    'learning_rate': 0.03, \n",
    "    'l2_leaf_reg': 5, \n",
    "    'iterations': 700, \n",
    "    'depth': 5, \n",
    "    'bagging_temperature': 2\n",
    "}\n",
    "model = CatBoostClassifier(\n",
    "    cat_features=cat_features,\n",
    "    loss_function='Logloss',\n",
    "    eval_metric='Accuracy',\n",
    "    verbose=0,\n",
    "    random_seed=42,\n",
    "    **best_params\n",
    ")\n",
    "model.fit(X, y)\n",
    "test['Transported'] = model.predict(X_test)\n",
    "test['Transported'] = test['Transported'].astype(bool)\n",
    "\n",
    "\n",
    "# used for tuning\n",
    "\"\"\"param_dist = {\n",
    "    'iterations': [300, 500, 700, 1000],\n",
    "    'learning_rate': [0.01, 0.03, 0.05, 0.1],\n",
    "    'depth': [4, 5, 6, 7, 8],\n",
    "    'l2_leaf_reg': [1, 3, 5, 7, 9],\n",
    "    'bagging_temperature': [0, 0.5, 1, 2]\n",
    "}\n",
    "\n",
    "model = CatBoostClassifier(\n",
    "    cat_features=cat_features,\n",
    "    loss_function='Logloss',\n",
    "    eval_metric='Accuracy',\n",
    "    verbose=0,\n",
    "    random_seed=42\n",
    ")\n",
    "\n",
    "search = RandomizedSearchCV(\n",
    "    model,\n",
    "    param_distributions=param_dist,\n",
    "    n_iter=20,\n",
    "    scoring='accuracy',\n",
    "    cv=3,\n",
    "    verbose=2,\n",
    "    n_jobs=-1\n",
    ")\n",
    "\n",
    "search.fit(X, y)\n",
    "print('Best params:', search.best_params_)\n",
    "print('Best score:', search.best_score_)\"\"\""
   ]
  },
  {
   "cell_type": "code",
   "execution_count": 7,
   "id": "d2f81b41",
   "metadata": {},
   "outputs": [],
   "source": [
    "submission = test[['PassengerId', 'Transported']]\n",
    "submission.to_csv('submission.csv', index=False)"
   ]
  },
  {
   "cell_type": "code",
   "execution_count": 8,
   "id": "f4c99617",
   "metadata": {},
   "outputs": [],
   "source": [
    "catboost_probs = model.predict_proba(X_test)[:, 1] "
   ]
  },
  {
   "cell_type": "code",
   "execution_count": 9,
   "id": "f473bcaf",
   "metadata": {},
   "outputs": [
    {
     "name": "stdout",
     "output_type": "stream",
     "text": [
      "Stored 'catboost_probs' (ndarray)\n"
     ]
    }
   ],
   "source": [
    "catboost_probs\n",
    "%store catboost_probs"
   ]
  },
  {
   "cell_type": "code",
   "execution_count": null,
   "id": "e9fac641",
   "metadata": {},
   "outputs": [],
   "source": []
  }
 ],
 "metadata": {
  "kernelspec": {
   "display_name": "Python (spaceship-titanic-venv)",
   "language": "python",
   "name": "spaceship-titanic-venv"
  },
  "language_info": {
   "codemirror_mode": {
    "name": "ipython",
    "version": 3
   },
   "file_extension": ".py",
   "mimetype": "text/x-python",
   "name": "python",
   "nbconvert_exporter": "python",
   "pygments_lexer": "ipython3",
   "version": "3.13.5"
  }
 },
 "nbformat": 4,
 "nbformat_minor": 5
}
