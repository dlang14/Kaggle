{
 "cells": [
  {
   "cell_type": "code",
   "execution_count": 7,
   "id": "a31e7adf",
   "metadata": {},
   "outputs": [],
   "source": [
    "import pandas as pd"
   ]
  },
  {
   "cell_type": "code",
   "execution_count": 8,
   "id": "8a64029e",
   "metadata": {},
   "outputs": [],
   "source": [
    "train = pd.read_csv('kaggle/input/spaceship-titanic/train.csv')\n",
    "test = pd.read_csv('kaggle/input/spaceship-titanic/test.csv')"
   ]
  },
  {
   "cell_type": "code",
   "execution_count": 9,
   "id": "279056e6",
   "metadata": {},
   "outputs": [
    {
     "data": {
      "text/html": [
       "<div>\n",
       "<style scoped>\n",
       "    .dataframe tbody tr th:only-of-type {\n",
       "        vertical-align: middle;\n",
       "    }\n",
       "\n",
       "    .dataframe tbody tr th {\n",
       "        vertical-align: top;\n",
       "    }\n",
       "\n",
       "    .dataframe thead th {\n",
       "        text-align: right;\n",
       "    }\n",
       "</style>\n",
       "<table border=\"1\" class=\"dataframe\">\n",
       "  <thead>\n",
       "    <tr style=\"text-align: right;\">\n",
       "      <th></th>\n",
       "      <th>PassengerId</th>\n",
       "      <th>HomePlanet</th>\n",
       "      <th>CryoSleep</th>\n",
       "      <th>Cabin</th>\n",
       "      <th>Destination</th>\n",
       "      <th>Age</th>\n",
       "      <th>VIP</th>\n",
       "      <th>RoomService</th>\n",
       "      <th>FoodCourt</th>\n",
       "      <th>ShoppingMall</th>\n",
       "      <th>Spa</th>\n",
       "      <th>VRDeck</th>\n",
       "      <th>Name</th>\n",
       "      <th>Transported</th>\n",
       "    </tr>\n",
       "  </thead>\n",
       "  <tbody>\n",
       "    <tr>\n",
       "      <th>0</th>\n",
       "      <td>0001_01</td>\n",
       "      <td>Europa</td>\n",
       "      <td>False</td>\n",
       "      <td>B/0/P</td>\n",
       "      <td>TRAPPIST-1e</td>\n",
       "      <td>39.0</td>\n",
       "      <td>False</td>\n",
       "      <td>0.0</td>\n",
       "      <td>0.0</td>\n",
       "      <td>0.0</td>\n",
       "      <td>0.0</td>\n",
       "      <td>0.0</td>\n",
       "      <td>Maham Ofracculy</td>\n",
       "      <td>False</td>\n",
       "    </tr>\n",
       "    <tr>\n",
       "      <th>1</th>\n",
       "      <td>0002_01</td>\n",
       "      <td>Earth</td>\n",
       "      <td>False</td>\n",
       "      <td>F/0/S</td>\n",
       "      <td>TRAPPIST-1e</td>\n",
       "      <td>24.0</td>\n",
       "      <td>False</td>\n",
       "      <td>109.0</td>\n",
       "      <td>9.0</td>\n",
       "      <td>25.0</td>\n",
       "      <td>549.0</td>\n",
       "      <td>44.0</td>\n",
       "      <td>Juanna Vines</td>\n",
       "      <td>True</td>\n",
       "    </tr>\n",
       "    <tr>\n",
       "      <th>2</th>\n",
       "      <td>0003_01</td>\n",
       "      <td>Europa</td>\n",
       "      <td>False</td>\n",
       "      <td>A/0/S</td>\n",
       "      <td>TRAPPIST-1e</td>\n",
       "      <td>58.0</td>\n",
       "      <td>True</td>\n",
       "      <td>43.0</td>\n",
       "      <td>3576.0</td>\n",
       "      <td>0.0</td>\n",
       "      <td>6715.0</td>\n",
       "      <td>49.0</td>\n",
       "      <td>Altark Susent</td>\n",
       "      <td>False</td>\n",
       "    </tr>\n",
       "    <tr>\n",
       "      <th>3</th>\n",
       "      <td>0003_02</td>\n",
       "      <td>Europa</td>\n",
       "      <td>False</td>\n",
       "      <td>A/0/S</td>\n",
       "      <td>TRAPPIST-1e</td>\n",
       "      <td>33.0</td>\n",
       "      <td>False</td>\n",
       "      <td>0.0</td>\n",
       "      <td>1283.0</td>\n",
       "      <td>371.0</td>\n",
       "      <td>3329.0</td>\n",
       "      <td>193.0</td>\n",
       "      <td>Solam Susent</td>\n",
       "      <td>False</td>\n",
       "    </tr>\n",
       "    <tr>\n",
       "      <th>4</th>\n",
       "      <td>0004_01</td>\n",
       "      <td>Earth</td>\n",
       "      <td>False</td>\n",
       "      <td>F/1/S</td>\n",
       "      <td>TRAPPIST-1e</td>\n",
       "      <td>16.0</td>\n",
       "      <td>False</td>\n",
       "      <td>303.0</td>\n",
       "      <td>70.0</td>\n",
       "      <td>151.0</td>\n",
       "      <td>565.0</td>\n",
       "      <td>2.0</td>\n",
       "      <td>Willy Santantines</td>\n",
       "      <td>True</td>\n",
       "    </tr>\n",
       "  </tbody>\n",
       "</table>\n",
       "</div>"
      ],
      "text/plain": [
       "  PassengerId HomePlanet CryoSleep  Cabin  Destination   Age    VIP  \\\n",
       "0     0001_01     Europa     False  B/0/P  TRAPPIST-1e  39.0  False   \n",
       "1     0002_01      Earth     False  F/0/S  TRAPPIST-1e  24.0  False   \n",
       "2     0003_01     Europa     False  A/0/S  TRAPPIST-1e  58.0   True   \n",
       "3     0003_02     Europa     False  A/0/S  TRAPPIST-1e  33.0  False   \n",
       "4     0004_01      Earth     False  F/1/S  TRAPPIST-1e  16.0  False   \n",
       "\n",
       "   RoomService  FoodCourt  ShoppingMall     Spa  VRDeck               Name  \\\n",
       "0          0.0        0.0           0.0     0.0     0.0    Maham Ofracculy   \n",
       "1        109.0        9.0          25.0   549.0    44.0       Juanna Vines   \n",
       "2         43.0     3576.0           0.0  6715.0    49.0      Altark Susent   \n",
       "3          0.0     1283.0         371.0  3329.0   193.0       Solam Susent   \n",
       "4        303.0       70.0         151.0   565.0     2.0  Willy Santantines   \n",
       "\n",
       "   Transported  \n",
       "0        False  \n",
       "1         True  \n",
       "2        False  \n",
       "3        False  \n",
       "4         True  "
      ]
     },
     "execution_count": 9,
     "metadata": {},
     "output_type": "execute_result"
    }
   ],
   "source": [
    "train.head()"
   ]
  },
  {
   "cell_type": "code",
   "execution_count": 10,
   "id": "bc32b52e",
   "metadata": {},
   "outputs": [],
   "source": [
    "\n",
    "# Split Cabin into deck, num, and side\n",
    "for df in [train, test]:\n",
    "    df['Cabin'] = df['Cabin'].fillna('Unknown/-1/U')\n",
    "    df['Cabin_deck'] = df['Cabin'].apply(lambda x: x.split('/')[0])\n",
    "    df['Cabin_num'] = df['Cabin'].apply(lambda x: x.split('/')[1])\n",
    "    df['Cabin_side'] = df['Cabin'].apply(lambda x: x.split('/')[2])\n"
   ]
  },
  {
   "cell_type": "code",
   "execution_count": 11,
   "id": "f9e3bd6f",
   "metadata": {},
   "outputs": [
    {
     "data": {
      "text/html": [
       "<div>\n",
       "<style scoped>\n",
       "    .dataframe tbody tr th:only-of-type {\n",
       "        vertical-align: middle;\n",
       "    }\n",
       "\n",
       "    .dataframe tbody tr th {\n",
       "        vertical-align: top;\n",
       "    }\n",
       "\n",
       "    .dataframe thead th {\n",
       "        text-align: right;\n",
       "    }\n",
       "</style>\n",
       "<table border=\"1\" class=\"dataframe\">\n",
       "  <thead>\n",
       "    <tr style=\"text-align: right;\">\n",
       "      <th></th>\n",
       "      <th>PassengerId</th>\n",
       "      <th>HomePlanet</th>\n",
       "      <th>CryoSleep</th>\n",
       "      <th>Cabin</th>\n",
       "      <th>Destination</th>\n",
       "      <th>Age</th>\n",
       "      <th>VIP</th>\n",
       "      <th>RoomService</th>\n",
       "      <th>FoodCourt</th>\n",
       "      <th>ShoppingMall</th>\n",
       "      <th>Spa</th>\n",
       "      <th>VRDeck</th>\n",
       "      <th>Name</th>\n",
       "      <th>Transported</th>\n",
       "      <th>Cabin_deck</th>\n",
       "      <th>Cabin_num</th>\n",
       "      <th>Cabin_side</th>\n",
       "    </tr>\n",
       "  </thead>\n",
       "  <tbody>\n",
       "    <tr>\n",
       "      <th>0</th>\n",
       "      <td>0001_01</td>\n",
       "      <td>Europa</td>\n",
       "      <td>False</td>\n",
       "      <td>B/0/P</td>\n",
       "      <td>TRAPPIST-1e</td>\n",
       "      <td>39.0</td>\n",
       "      <td>False</td>\n",
       "      <td>0.0</td>\n",
       "      <td>0.0</td>\n",
       "      <td>0.0</td>\n",
       "      <td>0.0</td>\n",
       "      <td>0.0</td>\n",
       "      <td>Maham Ofracculy</td>\n",
       "      <td>False</td>\n",
       "      <td>B</td>\n",
       "      <td>0</td>\n",
       "      <td>P</td>\n",
       "    </tr>\n",
       "    <tr>\n",
       "      <th>1</th>\n",
       "      <td>0002_01</td>\n",
       "      <td>Earth</td>\n",
       "      <td>False</td>\n",
       "      <td>F/0/S</td>\n",
       "      <td>TRAPPIST-1e</td>\n",
       "      <td>24.0</td>\n",
       "      <td>False</td>\n",
       "      <td>109.0</td>\n",
       "      <td>9.0</td>\n",
       "      <td>25.0</td>\n",
       "      <td>549.0</td>\n",
       "      <td>44.0</td>\n",
       "      <td>Juanna Vines</td>\n",
       "      <td>True</td>\n",
       "      <td>F</td>\n",
       "      <td>0</td>\n",
       "      <td>S</td>\n",
       "    </tr>\n",
       "    <tr>\n",
       "      <th>2</th>\n",
       "      <td>0003_01</td>\n",
       "      <td>Europa</td>\n",
       "      <td>False</td>\n",
       "      <td>A/0/S</td>\n",
       "      <td>TRAPPIST-1e</td>\n",
       "      <td>58.0</td>\n",
       "      <td>True</td>\n",
       "      <td>43.0</td>\n",
       "      <td>3576.0</td>\n",
       "      <td>0.0</td>\n",
       "      <td>6715.0</td>\n",
       "      <td>49.0</td>\n",
       "      <td>Altark Susent</td>\n",
       "      <td>False</td>\n",
       "      <td>A</td>\n",
       "      <td>0</td>\n",
       "      <td>S</td>\n",
       "    </tr>\n",
       "    <tr>\n",
       "      <th>3</th>\n",
       "      <td>0003_02</td>\n",
       "      <td>Europa</td>\n",
       "      <td>False</td>\n",
       "      <td>A/0/S</td>\n",
       "      <td>TRAPPIST-1e</td>\n",
       "      <td>33.0</td>\n",
       "      <td>False</td>\n",
       "      <td>0.0</td>\n",
       "      <td>1283.0</td>\n",
       "      <td>371.0</td>\n",
       "      <td>3329.0</td>\n",
       "      <td>193.0</td>\n",
       "      <td>Solam Susent</td>\n",
       "      <td>False</td>\n",
       "      <td>A</td>\n",
       "      <td>0</td>\n",
       "      <td>S</td>\n",
       "    </tr>\n",
       "    <tr>\n",
       "      <th>4</th>\n",
       "      <td>0004_01</td>\n",
       "      <td>Earth</td>\n",
       "      <td>False</td>\n",
       "      <td>F/1/S</td>\n",
       "      <td>TRAPPIST-1e</td>\n",
       "      <td>16.0</td>\n",
       "      <td>False</td>\n",
       "      <td>303.0</td>\n",
       "      <td>70.0</td>\n",
       "      <td>151.0</td>\n",
       "      <td>565.0</td>\n",
       "      <td>2.0</td>\n",
       "      <td>Willy Santantines</td>\n",
       "      <td>True</td>\n",
       "      <td>F</td>\n",
       "      <td>1</td>\n",
       "      <td>S</td>\n",
       "    </tr>\n",
       "  </tbody>\n",
       "</table>\n",
       "</div>"
      ],
      "text/plain": [
       "  PassengerId HomePlanet CryoSleep  Cabin  Destination   Age    VIP  \\\n",
       "0     0001_01     Europa     False  B/0/P  TRAPPIST-1e  39.0  False   \n",
       "1     0002_01      Earth     False  F/0/S  TRAPPIST-1e  24.0  False   \n",
       "2     0003_01     Europa     False  A/0/S  TRAPPIST-1e  58.0   True   \n",
       "3     0003_02     Europa     False  A/0/S  TRAPPIST-1e  33.0  False   \n",
       "4     0004_01      Earth     False  F/1/S  TRAPPIST-1e  16.0  False   \n",
       "\n",
       "   RoomService  FoodCourt  ShoppingMall     Spa  VRDeck               Name  \\\n",
       "0          0.0        0.0           0.0     0.0     0.0    Maham Ofracculy   \n",
       "1        109.0        9.0          25.0   549.0    44.0       Juanna Vines   \n",
       "2         43.0     3576.0           0.0  6715.0    49.0      Altark Susent   \n",
       "3          0.0     1283.0         371.0  3329.0   193.0       Solam Susent   \n",
       "4        303.0       70.0         151.0   565.0     2.0  Willy Santantines   \n",
       "\n",
       "   Transported Cabin_deck Cabin_num Cabin_side  \n",
       "0        False          B         0          P  \n",
       "1         True          F         0          S  \n",
       "2        False          A         0          S  \n",
       "3        False          A         0          S  \n",
       "4         True          F         1          S  "
      ]
     },
     "execution_count": 11,
     "metadata": {},
     "output_type": "execute_result"
    }
   ],
   "source": [
    "train.head()"
   ]
  },
  {
   "cell_type": "code",
   "execution_count": 12,
   "id": "43823cb5",
   "metadata": {},
   "outputs": [
    {
     "data": {
      "text/plain": [
       "array(['0', '1', '2', ..., '1892', '1893', '1894'],\n",
       "      shape=(1818,), dtype=object)"
      ]
     },
     "execution_count": 12,
     "metadata": {},
     "output_type": "execute_result"
    }
   ],
   "source": [
    "train.Cabin_num.unique()\n"
   ]
  },
  {
   "cell_type": "code",
   "execution_count": 13,
   "id": "877c140f",
   "metadata": {},
   "outputs": [
    {
     "name": "stderr",
     "output_type": "stream",
     "text": [
      "/var/folders/mn/hs3437m91nl6t0jglxgfhwkw0000gn/T/ipykernel_7435/3111374012.py:3: FutureWarning: Downcasting object dtype arrays on .fillna, .ffill, .bfill is deprecated and will change in a future version. Call result.infer_objects(copy=False) instead. To opt-in to the future behavior, set `pd.set_option('future.no_silent_downcasting', True)`\n",
      "  train['VIP'] = train['VIP'].fillna(False).astype(bool)\n",
      "/var/folders/mn/hs3437m91nl6t0jglxgfhwkw0000gn/T/ipykernel_7435/3111374012.py:4: FutureWarning: Downcasting object dtype arrays on .fillna, .ffill, .bfill is deprecated and will change in a future version. Call result.infer_objects(copy=False) instead. To opt-in to the future behavior, set `pd.set_option('future.no_silent_downcasting', True)`\n",
      "  train['CryoSleep'] = train['CryoSleep'].fillna(False).astype(bool)\n",
      "/var/folders/mn/hs3437m91nl6t0jglxgfhwkw0000gn/T/ipykernel_7435/3111374012.py:10: FutureWarning: Downcasting object dtype arrays on .fillna, .ffill, .bfill is deprecated and will change in a future version. Call result.infer_objects(copy=False) instead. To opt-in to the future behavior, set `pd.set_option('future.no_silent_downcasting', True)`\n",
      "  test['VIP'] = test['VIP'].fillna(False).astype(bool)\n",
      "/var/folders/mn/hs3437m91nl6t0jglxgfhwkw0000gn/T/ipykernel_7435/3111374012.py:11: FutureWarning: Downcasting object dtype arrays on .fillna, .ffill, .bfill is deprecated and will change in a future version. Call result.infer_objects(copy=False) instead. To opt-in to the future behavior, set `pd.set_option('future.no_silent_downcasting', True)`\n",
      "  test['CryoSleep'] = test['CryoSleep'].fillna(False).astype(bool)\n"
     ]
    }
   ],
   "source": [
    "# Fill missing values and convert boolean columns explicitly\n",
    "train['Age'] = train['Age'].fillna(train['Age'].median())\n",
    "train['VIP'] = train['VIP'].fillna(False).astype(bool)\n",
    "train['CryoSleep'] = train['CryoSleep'].fillna(False).astype(bool)\n",
    "train['Cabin'] = train['Cabin'].fillna('Unknown')\n",
    "train['Destination'] = train['Destination'].fillna('Unknown')\n",
    "train['HomePlanet'] = train['HomePlanet'].fillna('Unknown')\n",
    "\n",
    "test['Age'] = test['Age'].fillna(train['Age'].median())\n",
    "test['VIP'] = test['VIP'].fillna(False).astype(bool)\n",
    "test['CryoSleep'] = test['CryoSleep'].fillna(False).astype(bool)\n",
    "test['Cabin'] = test['Cabin'].fillna('Unknown')\n",
    "test['Destination'] = test['Destination'].fillna('Unknown')\n",
    "test['HomePlanet'] = test['HomePlanet'].fillna('Unknown')\n",
    "\n",
    "########################################################\n",
    "\n",
    "# Combine train and test for consistent encoding, then split back\n",
    "from sklearn.preprocessing import LabelEncoder\n",
    "\n",
    "# Add a marker to split later\n",
    "test['Transported'] = None  # Add dummy column to align columns\n",
    "combined = pd.concat([train, test], sort=False, ignore_index=True)\n",
    "#combined['CryoSleep_VIP'] = combined['CryoSleep'].astype(str) + '_' + combined['VIP'].astype(str)\n",
    "\n",
    "# Encode categorical columns\n",
    "le_home = LabelEncoder()\n",
    "le_dest = LabelEncoder()\n",
    "le_cabin_deck = LabelEncoder()\n",
    "le_cabin_side = LabelEncoder()\n",
    "#le_cryo_vip = LabelEncoder()\n",
    "\n",
    "combined['HomePlanet_enc'] = le_home.fit_transform(combined['HomePlanet'])\n",
    "combined['Destination_enc'] = le_dest.fit_transform(combined['Destination'])\n",
    "combined['Cabin_deck_enc'] = le_cabin_deck.fit_transform(combined['Cabin_deck'])\n",
    "combined['Cabin_side_enc'] = le_cabin_side.fit_transform(combined['Cabin_side'])\n",
    "#combined['CryoSleep_VIP_enc'] = le_cryo_vip.fit_transform(combined['CryoSleep_VIP'])\n",
    "\n",
    "# Split back into train and test\n",
    "train = combined[combined['Transported'].notnull()].copy()\n",
    "test = combined[combined['Transported'].isnull()].copy()\n",
    "\n",
    "test.drop(columns=['Transported'], inplace=True)  # Remove dummy column from test"
   ]
  },
  {
   "cell_type": "code",
   "execution_count": 14,
   "id": "a601123e",
   "metadata": {},
   "outputs": [
    {
     "name": "stdout",
     "output_type": "stream",
     "text": [
      "Transported\n",
      "True     4378\n",
      "False    4315\n",
      "Name: count, dtype: int64\n"
     ]
    }
   ],
   "source": [
    "print(train['Transported'].value_counts())"
   ]
  },
  {
   "cell_type": "code",
   "execution_count": 15,
   "id": "478cb38b",
   "metadata": {},
   "outputs": [],
   "source": [
    "transported = train[train['Transported'] == True]\n",
    "not_transported = train[train['Transported'] == False]"
   ]
  },
  {
   "cell_type": "code",
   "execution_count": 16,
   "id": "5f32468a",
   "metadata": {},
   "outputs": [
    {
     "name": "stdout",
     "output_type": "stream",
     "text": [
      "--- TRANSPORTED ---\n",
      "room service: 63.09802095459837\n",
      "food court: 532.6919841084366\n",
      "shopping mall: 179.82997185741087\n",
      "spa: 61.675530674131096\n",
      "vr deck: 69.1481308411215\n",
      "age: 27.733439926907263\n",
      "vip: VIP\n",
      "False    4302\n",
      "True       76\n",
      "Name: count, dtype: int64\n",
      "cryo sleep: CryoSleep\n",
      "True     2483\n",
      "False    1895\n",
      "Name: count, dtype: int64\n"
     ]
    }
   ],
   "source": [
    "print(\"--- TRANSPORTED ---\")\n",
    "print(f\"room service: {transported['RoomService'].mean()}\")\n",
    "print(f\"food court: {transported['FoodCourt'].mean()}\")\n",
    "print(f\"shopping mall: {transported['ShoppingMall'].mean()}\")\n",
    "print(f\"spa: {transported['Spa'].mean()}\")\n",
    "print(f\"vr deck: {transported['VRDeck'].mean()}\")\n",
    "print(f\"age: {transported['Age'].mean()}\")\n",
    "print(f\"vip: {transported['VIP'].value_counts()}\")\n",
    "print(f\"cryo sleep: {transported['CryoSleep'].value_counts()}\")"
   ]
  },
  {
   "cell_type": "code",
   "execution_count": 17,
   "id": "c56ee799",
   "metadata": {},
   "outputs": [
    {
     "name": "stdout",
     "output_type": "stream",
     "text": [
      "--- NOT TRANSPORTED ---\n",
      "room service: 389.2660659236424\n",
      "food court: 382.61593004017965\n",
      "shopping mall: 167.5662165363658\n",
      "spa: 564.3826663509353\n",
      "vr deck: 543.6298224852071\n",
      "age: 29.862572421784474\n",
      "vip: VIP\n",
      "False    4192\n",
      "True      123\n",
      "Name: count, dtype: int64\n",
      "cryo sleep: CryoSleep\n",
      "False    3761\n",
      "True      554\n",
      "Name: count, dtype: int64\n"
     ]
    }
   ],
   "source": [
    "print(\"--- NOT TRANSPORTED ---\")\n",
    "print(f\"room service: {not_transported['RoomService'].mean()}\")\n",
    "print(f\"food court: {not_transported['FoodCourt'].mean()}\")\n",
    "print(f\"shopping mall: {not_transported['ShoppingMall'].mean()}\")\n",
    "print(f\"spa: {not_transported['Spa'].mean()}\")\n",
    "print(f\"vr deck: {not_transported['VRDeck'].mean()}\")\n",
    "print(f\"age: {not_transported['Age'].mean()}\")\n",
    "print(f\"vip: {not_transported['VIP'].value_counts()}\")\n",
    "print(f\"cryo sleep: {not_transported['CryoSleep'].value_counts()}\")\n",
    "\n"
   ]
  },
  {
   "cell_type": "code",
   "execution_count": null,
   "id": "a49d018d",
   "metadata": {},
   "outputs": [
    {
     "name": "stderr",
     "output_type": "stream",
     "text": [
      "/Users/dlangford/Desktop/kaggle/spaceship-titanic/spaceship-titanic-venv/lib/python3.13/site-packages/xgboost/training.py:183: UserWarning: [10:44:15] WARNING: /Users/runner/work/xgboost/xgboost/src/learner.cc:738: \n",
      "Parameters: { \"use_label_encoder\" } are not used.\n",
      "\n",
      "  bst.update(dtrain, iteration=i, fobj=obj)\n"
     ]
    },
    {
     "data": {
      "text/plain": [
       "\"from sklearn.model_selection import RandomizedSearchCV\\nimport xgboost as xgb\\n\\nparam_dist = {\\n    'n_estimators': [100, 200, 300, 400],\\n    'max_depth': [3, 4, 5, 6, 7],\\n    'learning_rate': [0.01, 0.05, 0.1, 0.2],\\n    'subsample': [0.7, 0.8, 0.9, 1.0],\\n    'colsample_bytree': [0.7, 0.8, 0.9, 1.0]\\n}\\n\\nxgb_clf = xgb.XGBClassifier(use_label_encoder=False, eval_metric='logloss', random_state=42)\\nsearch = RandomizedSearchCV(xgb_clf, param_distributions=param_dist, n_iter=20, scoring='accuracy', cv=3, random_state=42)\\nsearch.fit(X, y)\\nprint('Best parameters:', search.best_params_)\\nprint('Best cross-validation score:', search.best_score_)\""
      ]
     },
     "execution_count": 18,
     "metadata": {},
     "output_type": "execute_result"
    }
   ],
   "source": [
    "from sklearn.ensemble import RandomForestClassifier\n",
    "\n",
    "# Example: Feature engineering\n",
    "# Take out FoodCourt and ShoppingMall\n",
    "spend_cols = ['RoomService','Spa', 'VRDeck']\n",
    "train['TotalSpend'] = train[spend_cols].fillna(0).sum(axis=1)\n",
    "train['NoSpend'] = (train[spend_cols].fillna(0).sum(axis=1) == 0).astype(int)\n",
    "test['TotalSpend'] = test[spend_cols].fillna(0).sum(axis=1)\n",
    "test['NoSpend'] = (test[spend_cols].fillna(0).sum(axis=1) == 0).astype(int)\n",
    "\n",
    "# Prepare features and target\n",
    "features = ['CryoSleep', 'VIP', 'TotalSpend', 'NoSpend', 'HomePlanet_enc', 'Destination_enc', 'Cabin_deck_enc', 'Cabin_side_enc']\n",
    "X = train[features]\n",
    "y = train['Transported'].astype(int)\n",
    "X_test = test[features]\n",
    "\n",
    "#model = RandomForestClassifier(random_state=42)\n",
    "# {'subsample': 0.7, 'n_estimators': 100, 'max_depth': 7, 'learning_rate': 0.05, 'colsample_bytree': 0.8}\n",
    "\n",
    "import xgboost as xgb\n",
    "best_params = {\n",
    "    'subsample': 0.7,\n",
    "    'n_estimators': 100,\n",
    "    'max_depth': 7,\n",
    "    'learning_rate': 0.05,\n",
    "    'colsample_bytree': 0.8,\n",
    "    'use_label_encoder': False,\n",
    "    'eval_metric': 'logloss',\n",
    "    'random_state': 42\n",
    "}\n",
    "model = xgb.XGBClassifier(**best_params)\n",
    "model.fit(X, y)\n",
    "\n",
    "test['Transported'] = model.predict(X_test)\n",
    "test['Transported'] = test['Transported'].astype(bool) # convert back\n",
    "\n",
    "\n",
    "# used for tuning\n",
    "\"\"\"from sklearn.model_selection import RandomizedSearchCV\n",
    "import xgboost as xgb\n",
    "\n",
    "param_dist = {\n",
    "    'n_estimators': [100, 200, 300, 400],\n",
    "    'max_depth': [3, 4, 5, 6, 7],\n",
    "    'learning_rate': [0.01, 0.05, 0.1, 0.2],\n",
    "    'subsample': [0.7, 0.8, 0.9, 1.0],\n",
    "    'colsample_bytree': [0.7, 0.8, 0.9, 1.0]\n",
    "}\n",
    "\n",
    "xgb_clf = xgb.XGBClassifier(use_label_encoder=False, eval_metric='logloss', random_state=42)\n",
    "search = RandomizedSearchCV(xgb_clf, param_distributions=param_dist, n_iter=20, scoring='accuracy', cv=3, random_state=42)\n",
    "search.fit(X, y)\n",
    "print('Best parameters:', search.best_params_)\n",
    "print('Best cross-validation score:', search.best_score_)\"\"\"\n",
    "\n"
   ]
  },
  {
   "cell_type": "code",
   "execution_count": 19,
   "id": "f0d12f77",
   "metadata": {},
   "outputs": [],
   "source": [
    "#submission = test[['PassengerId', 'Transported']]\n",
    "#submission.to_csv('submission.csv', index=False)"
   ]
  },
  {
   "cell_type": "code",
   "execution_count": 20,
   "id": "9c4b8efe",
   "metadata": {},
   "outputs": [],
   "source": [
    "xgb_probs = model.predict_proba(X_test)[:, 1]"
   ]
  },
  {
   "cell_type": "code",
   "execution_count": 21,
   "id": "49bb35a9",
   "metadata": {},
   "outputs": [
    {
     "data": {
      "text/plain": [
       "array([0.70464486, 0.04068949, 0.99206173, ..., 0.9548554 , 0.65604943,\n",
       "       0.7120803 ], shape=(4277,), dtype=float32)"
      ]
     },
     "execution_count": 21,
     "metadata": {},
     "output_type": "execute_result"
    }
   ],
   "source": [
    "xgb_probs"
   ]
  },
  {
   "cell_type": "code",
   "execution_count": 22,
   "id": "be9f7a7e",
   "metadata": {},
   "outputs": [],
   "source": [
    "import import_ipynb\n",
    "import spaceship_titanic_catboost"
   ]
  },
  {
   "cell_type": "code",
   "execution_count": 23,
   "id": "5925459a",
   "metadata": {},
   "outputs": [
    {
     "name": "stdout",
     "output_type": "stream",
     "text": [
      "[0.69701264 0.04010205 0.99789125 ... 0.93278865 0.60660295 0.71814505]\n"
     ]
    }
   ],
   "source": [
    "%store -r catboost_probs\n",
    "print(catboost_probs)"
   ]
  },
  {
   "cell_type": "code",
   "execution_count": 24,
   "id": "f06c3676",
   "metadata": {},
   "outputs": [],
   "source": [
    "ensemble_probs = (catboost_probs + xgb_probs) / 2"
   ]
  },
  {
   "cell_type": "code",
   "execution_count": 25,
   "id": "4c14baad",
   "metadata": {},
   "outputs": [
    {
     "data": {
      "text/plain": [
       "array([0.70082875, 0.04039577, 0.99497649, ..., 0.94382202, 0.63132619,\n",
       "       0.71511267], shape=(4277,))"
      ]
     },
     "execution_count": 25,
     "metadata": {},
     "output_type": "execute_result"
    }
   ],
   "source": [
    "ensemble_probs"
   ]
  },
  {
   "cell_type": "code",
   "execution_count": 26,
   "id": "5982a3c3",
   "metadata": {},
   "outputs": [],
   "source": [
    "test['Transported'] = ensemble_probs > 0.5"
   ]
  },
  {
   "cell_type": "code",
   "execution_count": 27,
   "id": "f2d30b54",
   "metadata": {},
   "outputs": [],
   "source": [
    "submission = test[['PassengerId', 'Transported']]\n",
    "submission.to_csv('submission_ensemble.csv', index=False)"
   ]
  },
  {
   "cell_type": "code",
   "execution_count": null,
   "id": "f46e8f56",
   "metadata": {},
   "outputs": [],
   "source": []
  }
 ],
 "metadata": {
  "kernelspec": {
   "display_name": "spaceship-titanic-venv",
   "language": "python",
   "name": "python3"
  },
  "language_info": {
   "codemirror_mode": {
    "name": "ipython",
    "version": 3
   },
   "file_extension": ".py",
   "mimetype": "text/x-python",
   "name": "python",
   "nbconvert_exporter": "python",
   "pygments_lexer": "ipython3",
   "version": "3.13.5"
  }
 },
 "nbformat": 4,
 "nbformat_minor": 5
}
